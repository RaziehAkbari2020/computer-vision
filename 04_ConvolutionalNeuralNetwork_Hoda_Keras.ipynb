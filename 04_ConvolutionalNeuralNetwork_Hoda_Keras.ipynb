{
  "cells": [
    {
      "cell_type": "markdown",
      "metadata": {
        "id": "view-in-github",
        "colab_type": "text"
      },
      "source": [
        "<a href=\"https://colab.research.google.com/github/RaziehAkbari2020/computer-vision/blob/main/04_ConvolutionalNeuralNetwork_Hoda_Keras.ipynb\" target=\"_parent\"><img src=\"https://colab.research.google.com/assets/colab-badge.svg\" alt=\"Open In Colab\"/></a>"
      ]
    },
    {
      "cell_type": "markdown",
      "metadata": {
        "id": "Ne9yIP2-rELQ"
      },
      "source": [
        "<center><div style=\"direction:rtl;font-family:B Lotus, B Nazanin, Tahoma\">به نام خدا</div></center>\n",
        "<h1><center><div style=\"direction:rtl;font-family:B Lotus, B Nazanin, Tahoma\">مقدمه ای بر شبکه‌های عصبی کانولوشنالی<br>Convolutionl Neural Networks - CNN</div></center></h1>"
      ]
    },
    {
      "cell_type": "markdown",
      "metadata": {
        "id": "qqHqEvY2rELY"
      },
      "source": [
        "<div style=\"direction:rtl;text-align:right;font-family:Tahoma\">\n",
        "اگر روی گوگل کولب اجرا میکنید این خطوط را از حالت کامنت خارج نمائید.\n",
        "</div>"
      ]
    },
    {
      "cell_type": "code",
      "execution_count": 4,
      "metadata": {
        "colab": {
          "base_uri": "https://localhost:8080/"
        },
        "id": "M78XtXC9rELZ",
        "outputId": "9e2fc75d-72a1-4883-8501-3d7724d60bac"
      },
      "outputs": [
        {
          "output_type": "stream",
          "name": "stdout",
          "text": [
            "--2023-12-05 19:43:44--  https://raw.githubusercontent.com/Alireza-Akhavan/SRU-deeplearning-workshop/master/dataset.py\n",
            "Resolving raw.githubusercontent.com (raw.githubusercontent.com)... 185.199.108.133, 185.199.109.133, 185.199.110.133, ...\n",
            "Connecting to raw.githubusercontent.com (raw.githubusercontent.com)|185.199.108.133|:443... connected.\n",
            "HTTP request sent, awaiting response... 200 OK\n",
            "Length: 917 [text/plain]\n",
            "Saving to: ‘dataset.py’\n",
            "\n",
            "dataset.py          100%[===================>]     917  --.-KB/s    in 0s      \n",
            "\n",
            "2023-12-05 19:43:44 (62.5 MB/s) - ‘dataset.py’ saved [917/917]\n",
            "\n",
            "--2023-12-05 19:43:44--  https://github.com/Alireza-Akhavan/SRU-deeplearning-workshop/raw/master/dataset/Data_hoda_full.mat\n",
            "Resolving github.com (github.com)... 20.205.243.166\n",
            "Connecting to github.com (github.com)|20.205.243.166|:443... connected.\n",
            "HTTP request sent, awaiting response... 301 Moved Permanently\n",
            "Location: https://github.com/Alireza-Akhavan/deeplearning-tensorflow2-notebooks/raw/master/dataset/Data_hoda_full.mat [following]\n",
            "--2023-12-05 19:43:45--  https://github.com/Alireza-Akhavan/deeplearning-tensorflow2-notebooks/raw/master/dataset/Data_hoda_full.mat\n",
            "Reusing existing connection to github.com:443.\n",
            "HTTP request sent, awaiting response... 302 Found\n",
            "Location: https://raw.githubusercontent.com/Alireza-Akhavan/deeplearning-tensorflow2-notebooks/master/dataset/Data_hoda_full.mat [following]\n",
            "--2023-12-05 19:43:46--  https://raw.githubusercontent.com/Alireza-Akhavan/deeplearning-tensorflow2-notebooks/master/dataset/Data_hoda_full.mat\n",
            "Resolving raw.githubusercontent.com (raw.githubusercontent.com)... 185.199.108.133, 185.199.109.133, 185.199.110.133, ...\n",
            "Connecting to raw.githubusercontent.com (raw.githubusercontent.com)|185.199.108.133|:443... connected.\n",
            "HTTP request sent, awaiting response... 200 OK\n",
            "Length: 3989009 (3.8M) [application/octet-stream]\n",
            "Saving to: ‘dataset/Data_hoda_full.mat’\n",
            "\n",
            "Data_hoda_full.mat  100%[===================>]   3.80M  --.-KB/s    in 0.01s   \n",
            "\n",
            "2023-12-05 19:43:46 (258 MB/s) - ‘dataset/Data_hoda_full.mat’ saved [3989009/3989009]\n",
            "\n"
          ]
        }
      ],
      "source": [
        "!wget https://raw.githubusercontent.com/Alireza-Akhavan/SRU-deeplearning-workshop/master/dataset.py\n",
        "!mkdir dataset\n",
        "!wget https://github.com/Alireza-Akhavan/SRU-deeplearning-workshop/raw/master/dataset/Data_hoda_full.mat -P dataset"
      ]
    },
    {
      "cell_type": "markdown",
      "metadata": {
        "id": "KpY95G-5rELc"
      },
      "source": [
        "## <div style=\"direction:rtl;text-align:right;font-family:B Lotus, B Nazanin, Tahoma\">کد یک شبکه کانولوشنالی و آموزش آن از ابتدا تا انتها بر روی مجموعه داده هدی</div>\n"
      ]
    },
    {
      "cell_type": "code",
      "execution_count": 5,
      "metadata": {
        "colab": {
          "base_uri": "https://localhost:8080/"
        },
        "id": "bs5ZlBwcrELd",
        "outputId": "0e5232cd-7cb7-4b50-95ac-94e201fb1a6f"
      },
      "outputs": [
        {
          "output_type": "stream",
          "name": "stdout",
          "text": [
            "Epoch 1/200\n",
            "11/11 [==============================] - 13s 79ms/step - loss: 2.1265 - accuracy: 0.2900 - val_loss: 1.6775 - val_accuracy: 0.6814\n",
            "Epoch 2/200\n",
            "11/11 [==============================] - 0s 13ms/step - loss: 1.3983 - accuracy: 0.5382 - val_loss: 0.7737 - val_accuracy: 0.7800\n",
            "Epoch 3/200\n",
            "11/11 [==============================] - 0s 13ms/step - loss: 0.9321 - accuracy: 0.6864 - val_loss: 0.5620 - val_accuracy: 0.8214\n",
            "Epoch 4/200\n",
            "11/11 [==============================] - 0s 12ms/step - loss: 0.7235 - accuracy: 0.7589 - val_loss: 0.4325 - val_accuracy: 0.8671\n",
            "Epoch 5/200\n",
            "11/11 [==============================] - 0s 13ms/step - loss: 0.5976 - accuracy: 0.8025 - val_loss: 0.3369 - val_accuracy: 0.8871\n",
            "Epoch 6/200\n",
            "11/11 [==============================] - 0s 12ms/step - loss: 0.4691 - accuracy: 0.8464 - val_loss: 0.2617 - val_accuracy: 0.9143\n",
            "Epoch 7/200\n",
            "11/11 [==============================] - 0s 13ms/step - loss: 0.3936 - accuracy: 0.8693 - val_loss: 0.2365 - val_accuracy: 0.9114\n",
            "Epoch 8/200\n",
            "11/11 [==============================] - 0s 12ms/step - loss: 0.3554 - accuracy: 0.8818 - val_loss: 0.2050 - val_accuracy: 0.9286\n",
            "Epoch 9/200\n",
            "11/11 [==============================] - 0s 13ms/step - loss: 0.3055 - accuracy: 0.9021 - val_loss: 0.1769 - val_accuracy: 0.9386\n",
            "Epoch 10/200\n",
            "11/11 [==============================] - 0s 13ms/step - loss: 0.2648 - accuracy: 0.9121 - val_loss: 0.1720 - val_accuracy: 0.9371\n",
            "Epoch 11/200\n",
            "11/11 [==============================] - 0s 17ms/step - loss: 0.2485 - accuracy: 0.9143 - val_loss: 0.1520 - val_accuracy: 0.9414\n",
            "Epoch 12/200\n",
            "11/11 [==============================] - 0s 13ms/step - loss: 0.2461 - accuracy: 0.9143 - val_loss: 0.1444 - val_accuracy: 0.9500\n",
            "Epoch 13/200\n",
            "11/11 [==============================] - 0s 13ms/step - loss: 0.2119 - accuracy: 0.9314 - val_loss: 0.1328 - val_accuracy: 0.9514\n",
            "Epoch 14/200\n",
            "11/11 [==============================] - 0s 12ms/step - loss: 0.2000 - accuracy: 0.9336 - val_loss: 0.1184 - val_accuracy: 0.9600\n",
            "Epoch 15/200\n",
            "11/11 [==============================] - 0s 11ms/step - loss: 0.1876 - accuracy: 0.9375 - val_loss: 0.1281 - val_accuracy: 0.9543\n",
            "Epoch 16/200\n",
            "11/11 [==============================] - 0s 11ms/step - loss: 0.1661 - accuracy: 0.9493 - val_loss: 0.1037 - val_accuracy: 0.9643\n",
            "Epoch 17/200\n",
            "11/11 [==============================] - 0s 12ms/step - loss: 0.1628 - accuracy: 0.9479 - val_loss: 0.1113 - val_accuracy: 0.9571\n",
            "Epoch 18/200\n",
            "11/11 [==============================] - 0s 11ms/step - loss: 0.1521 - accuracy: 0.9493 - val_loss: 0.1170 - val_accuracy: 0.9629\n",
            "Epoch 19/200\n",
            "11/11 [==============================] - 0s 11ms/step - loss: 0.1271 - accuracy: 0.9600 - val_loss: 0.1002 - val_accuracy: 0.9629\n",
            "Epoch 20/200\n",
            "11/11 [==============================] - 0s 11ms/step - loss: 0.1296 - accuracy: 0.9579 - val_loss: 0.1051 - val_accuracy: 0.9629\n",
            "Epoch 21/200\n",
            "11/11 [==============================] - 0s 11ms/step - loss: 0.1260 - accuracy: 0.9579 - val_loss: 0.1023 - val_accuracy: 0.9614\n",
            "Epoch 22/200\n",
            "11/11 [==============================] - 0s 11ms/step - loss: 0.1127 - accuracy: 0.9646 - val_loss: 0.0933 - val_accuracy: 0.9686\n",
            "Epoch 23/200\n",
            "11/11 [==============================] - 0s 11ms/step - loss: 0.0999 - accuracy: 0.9661 - val_loss: 0.1136 - val_accuracy: 0.9586\n",
            "Epoch 24/200\n",
            "11/11 [==============================] - 0s 10ms/step - loss: 0.0965 - accuracy: 0.9671 - val_loss: 0.0860 - val_accuracy: 0.9671\n",
            "Epoch 25/200\n",
            "11/11 [==============================] - 0s 10ms/step - loss: 0.0884 - accuracy: 0.9704 - val_loss: 0.0910 - val_accuracy: 0.9657\n",
            "Epoch 26/200\n",
            "11/11 [==============================] - 0s 12ms/step - loss: 0.0851 - accuracy: 0.9718 - val_loss: 0.0860 - val_accuracy: 0.9686\n",
            "Epoch 27/200\n",
            "11/11 [==============================] - 0s 11ms/step - loss: 0.0771 - accuracy: 0.9736 - val_loss: 0.0846 - val_accuracy: 0.9700\n",
            "Epoch 28/200\n",
            "11/11 [==============================] - 0s 10ms/step - loss: 0.0750 - accuracy: 0.9746 - val_loss: 0.0867 - val_accuracy: 0.9571\n",
            "Epoch 29/200\n",
            "11/11 [==============================] - 0s 11ms/step - loss: 0.0755 - accuracy: 0.9779 - val_loss: 0.0818 - val_accuracy: 0.9657\n",
            "Epoch 30/200\n",
            "11/11 [==============================] - 0s 10ms/step - loss: 0.0725 - accuracy: 0.9746 - val_loss: 0.0813 - val_accuracy: 0.9671\n",
            "Epoch 31/200\n",
            "11/11 [==============================] - 0s 11ms/step - loss: 0.0663 - accuracy: 0.9786 - val_loss: 0.0936 - val_accuracy: 0.9671\n",
            "Epoch 32/200\n",
            "11/11 [==============================] - 0s 10ms/step - loss: 0.0653 - accuracy: 0.9800 - val_loss: 0.0736 - val_accuracy: 0.9700\n",
            "Epoch 33/200\n",
            "11/11 [==============================] - 0s 11ms/step - loss: 0.0656 - accuracy: 0.9804 - val_loss: 0.0745 - val_accuracy: 0.9700\n",
            "Epoch 34/200\n",
            "11/11 [==============================] - 0s 10ms/step - loss: 0.0613 - accuracy: 0.9764 - val_loss: 0.0809 - val_accuracy: 0.9671\n",
            "Epoch 35/200\n",
            "11/11 [==============================] - 0s 10ms/step - loss: 0.0589 - accuracy: 0.9807 - val_loss: 0.0886 - val_accuracy: 0.9671\n",
            "Epoch 36/200\n",
            "11/11 [==============================] - 0s 10ms/step - loss: 0.0641 - accuracy: 0.9789 - val_loss: 0.0726 - val_accuracy: 0.9757\n",
            "Epoch 37/200\n",
            "11/11 [==============================] - 0s 10ms/step - loss: 0.0562 - accuracy: 0.9832 - val_loss: 0.0746 - val_accuracy: 0.9714\n",
            "Epoch 38/200\n",
            "11/11 [==============================] - 0s 11ms/step - loss: 0.0530 - accuracy: 0.9825 - val_loss: 0.0651 - val_accuracy: 0.9743\n",
            "Epoch 39/200\n",
            "11/11 [==============================] - 0s 10ms/step - loss: 0.0454 - accuracy: 0.9829 - val_loss: 0.0907 - val_accuracy: 0.9586\n",
            "Epoch 40/200\n",
            "11/11 [==============================] - 0s 10ms/step - loss: 0.0640 - accuracy: 0.9782 - val_loss: 0.0749 - val_accuracy: 0.9671\n",
            "Epoch 41/200\n",
            "11/11 [==============================] - 0s 11ms/step - loss: 0.0478 - accuracy: 0.9857 - val_loss: 0.0677 - val_accuracy: 0.9729\n",
            "Epoch 42/200\n",
            "11/11 [==============================] - 0s 10ms/step - loss: 0.0486 - accuracy: 0.9832 - val_loss: 0.0694 - val_accuracy: 0.9686\n",
            "Epoch 43/200\n",
            "11/11 [==============================] - 0s 10ms/step - loss: 0.0384 - accuracy: 0.9882 - val_loss: 0.0685 - val_accuracy: 0.9757\n",
            "Epoch 44/200\n",
            "11/11 [==============================] - 0s 10ms/step - loss: 0.0399 - accuracy: 0.9850 - val_loss: 0.0585 - val_accuracy: 0.9714\n",
            "Epoch 45/200\n",
            "11/11 [==============================] - 0s 11ms/step - loss: 0.0351 - accuracy: 0.9911 - val_loss: 0.0724 - val_accuracy: 0.9714\n",
            "Epoch 46/200\n",
            "11/11 [==============================] - 0s 11ms/step - loss: 0.0391 - accuracy: 0.9850 - val_loss: 0.0632 - val_accuracy: 0.9743\n",
            "Epoch 47/200\n",
            "11/11 [==============================] - 0s 10ms/step - loss: 0.0354 - accuracy: 0.9882 - val_loss: 0.0722 - val_accuracy: 0.9729\n",
            "Epoch 48/200\n",
            "11/11 [==============================] - 0s 10ms/step - loss: 0.0321 - accuracy: 0.9875 - val_loss: 0.0629 - val_accuracy: 0.9729\n",
            "Epoch 49/200\n",
            "11/11 [==============================] - 0s 10ms/step - loss: 0.0342 - accuracy: 0.9896 - val_loss: 0.0776 - val_accuracy: 0.9771\n",
            "Epoch 50/200\n",
            "11/11 [==============================] - 0s 11ms/step - loss: 0.0382 - accuracy: 0.9864 - val_loss: 0.0673 - val_accuracy: 0.9743\n",
            "Epoch 51/200\n",
            "11/11 [==============================] - 0s 11ms/step - loss: 0.0374 - accuracy: 0.9886 - val_loss: 0.0757 - val_accuracy: 0.9686\n",
            "Epoch 52/200\n",
            "11/11 [==============================] - 0s 10ms/step - loss: 0.0342 - accuracy: 0.9886 - val_loss: 0.0777 - val_accuracy: 0.9714\n",
            "Epoch 53/200\n",
            "11/11 [==============================] - 0s 11ms/step - loss: 0.0347 - accuracy: 0.9879 - val_loss: 0.0673 - val_accuracy: 0.9786\n",
            "Epoch 54/200\n",
            "11/11 [==============================] - 0s 10ms/step - loss: 0.0226 - accuracy: 0.9936 - val_loss: 0.0605 - val_accuracy: 0.9729\n",
            "Epoch 55/200\n",
            "11/11 [==============================] - 0s 10ms/step - loss: 0.0278 - accuracy: 0.9886 - val_loss: 0.0859 - val_accuracy: 0.9743\n",
            "Epoch 56/200\n",
            "11/11 [==============================] - 0s 28ms/step - loss: 0.0295 - accuracy: 0.9882 - val_loss: 0.0510 - val_accuracy: 0.9757\n",
            "Epoch 57/200\n",
            "11/11 [==============================] - 0s 19ms/step - loss: 0.0240 - accuracy: 0.9914 - val_loss: 0.0625 - val_accuracy: 0.9743\n",
            "Epoch 58/200\n",
            "11/11 [==============================] - 0s 12ms/step - loss: 0.0294 - accuracy: 0.9879 - val_loss: 0.0627 - val_accuracy: 0.9757\n",
            "Epoch 59/200\n",
            "11/11 [==============================] - 0s 11ms/step - loss: 0.0289 - accuracy: 0.9879 - val_loss: 0.0702 - val_accuracy: 0.9743\n",
            "Epoch 60/200\n",
            "11/11 [==============================] - 0s 11ms/step - loss: 0.0263 - accuracy: 0.9921 - val_loss: 0.0684 - val_accuracy: 0.9743\n",
            "Epoch 61/200\n",
            "11/11 [==============================] - 0s 10ms/step - loss: 0.0251 - accuracy: 0.9914 - val_loss: 0.0722 - val_accuracy: 0.9729\n",
            "Epoch 62/200\n",
            "11/11 [==============================] - 0s 16ms/step - loss: 0.0269 - accuracy: 0.9911 - val_loss: 0.0564 - val_accuracy: 0.9771\n",
            "Epoch 63/200\n",
            "11/11 [==============================] - 0s 30ms/step - loss: 0.0206 - accuracy: 0.9943 - val_loss: 0.0544 - val_accuracy: 0.9814\n",
            "Epoch 64/200\n",
            "11/11 [==============================] - 0s 10ms/step - loss: 0.0280 - accuracy: 0.9889 - val_loss: 0.0560 - val_accuracy: 0.9814\n",
            "Epoch 65/200\n",
            "11/11 [==============================] - 0s 11ms/step - loss: 0.0244 - accuracy: 0.9911 - val_loss: 0.0553 - val_accuracy: 0.9771\n",
            "Epoch 66/200\n",
            "11/11 [==============================] - 0s 11ms/step - loss: 0.0224 - accuracy: 0.9911 - val_loss: 0.0723 - val_accuracy: 0.9743\n",
            "Epoch 67/200\n",
            "11/11 [==============================] - 0s 11ms/step - loss: 0.0258 - accuracy: 0.9918 - val_loss: 0.0684 - val_accuracy: 0.9786\n",
            "Epoch 68/200\n",
            "11/11 [==============================] - 0s 11ms/step - loss: 0.0226 - accuracy: 0.9936 - val_loss: 0.0575 - val_accuracy: 0.9814\n",
            "Epoch 69/200\n",
            "11/11 [==============================] - 0s 10ms/step - loss: 0.0192 - accuracy: 0.9921 - val_loss: 0.0508 - val_accuracy: 0.9814\n",
            "Epoch 70/200\n",
            "11/11 [==============================] - 0s 11ms/step - loss: 0.0196 - accuracy: 0.9946 - val_loss: 0.0588 - val_accuracy: 0.9786\n",
            "Epoch 71/200\n",
            "11/11 [==============================] - 0s 11ms/step - loss: 0.0166 - accuracy: 0.9943 - val_loss: 0.0685 - val_accuracy: 0.9800\n",
            "Epoch 72/200\n",
            "11/11 [==============================] - 0s 11ms/step - loss: 0.0214 - accuracy: 0.9943 - val_loss: 0.0663 - val_accuracy: 0.9800\n",
            "Epoch 73/200\n",
            "11/11 [==============================] - 0s 11ms/step - loss: 0.0266 - accuracy: 0.9886 - val_loss: 0.0827 - val_accuracy: 0.9757\n",
            "Epoch 74/200\n",
            "11/11 [==============================] - 0s 10ms/step - loss: 0.0401 - accuracy: 0.9868 - val_loss: 0.0590 - val_accuracy: 0.9771\n",
            "Epoch 75/200\n",
            "11/11 [==============================] - 0s 11ms/step - loss: 0.0215 - accuracy: 0.9936 - val_loss: 0.0659 - val_accuracy: 0.9786\n",
            "Epoch 76/200\n",
            "11/11 [==============================] - 0s 10ms/step - loss: 0.0206 - accuracy: 0.9925 - val_loss: 0.0539 - val_accuracy: 0.9829\n",
            "Epoch 77/200\n",
            "11/11 [==============================] - 0s 10ms/step - loss: 0.0180 - accuracy: 0.9929 - val_loss: 0.0716 - val_accuracy: 0.9786\n",
            "Epoch 78/200\n",
            "11/11 [==============================] - 0s 11ms/step - loss: 0.0169 - accuracy: 0.9936 - val_loss: 0.0674 - val_accuracy: 0.9829\n",
            "Epoch 79/200\n",
            "11/11 [==============================] - 0s 10ms/step - loss: 0.0136 - accuracy: 0.9964 - val_loss: 0.0797 - val_accuracy: 0.9771\n",
            "Epoch 80/200\n",
            "11/11 [==============================] - 0s 11ms/step - loss: 0.0103 - accuracy: 0.9964 - val_loss: 0.0687 - val_accuracy: 0.9786\n",
            "Epoch 81/200\n",
            "11/11 [==============================] - 0s 10ms/step - loss: 0.0209 - accuracy: 0.9918 - val_loss: 0.0644 - val_accuracy: 0.9814\n",
            "Epoch 82/200\n",
            "11/11 [==============================] - 0s 10ms/step - loss: 0.0147 - accuracy: 0.9968 - val_loss: 0.0646 - val_accuracy: 0.9786\n",
            "Epoch 83/200\n",
            "11/11 [==============================] - 0s 11ms/step - loss: 0.0125 - accuracy: 0.9961 - val_loss: 0.0561 - val_accuracy: 0.9857\n",
            "Epoch 84/200\n",
            "11/11 [==============================] - 0s 12ms/step - loss: 0.0122 - accuracy: 0.9964 - val_loss: 0.0706 - val_accuracy: 0.9800\n",
            "Epoch 85/200\n",
            "11/11 [==============================] - 0s 11ms/step - loss: 0.0126 - accuracy: 0.9964 - val_loss: 0.0576 - val_accuracy: 0.9786\n",
            "Epoch 86/200\n",
            "11/11 [==============================] - 0s 11ms/step - loss: 0.0100 - accuracy: 0.9957 - val_loss: 0.0782 - val_accuracy: 0.9786\n",
            "Epoch 87/200\n",
            "11/11 [==============================] - 0s 10ms/step - loss: 0.0135 - accuracy: 0.9946 - val_loss: 0.0690 - val_accuracy: 0.9814\n",
            "Epoch 88/200\n",
            "11/11 [==============================] - 0s 11ms/step - loss: 0.0122 - accuracy: 0.9961 - val_loss: 0.0678 - val_accuracy: 0.9800\n",
            "Epoch 89/200\n",
            "11/11 [==============================] - 0s 10ms/step - loss: 0.0145 - accuracy: 0.9975 - val_loss: 0.0463 - val_accuracy: 0.9829\n",
            "Epoch 90/200\n",
            "11/11 [==============================] - 0s 10ms/step - loss: 0.0115 - accuracy: 0.9971 - val_loss: 0.0538 - val_accuracy: 0.9814\n",
            "Epoch 91/200\n",
            "11/11 [==============================] - 0s 11ms/step - loss: 0.0132 - accuracy: 0.9954 - val_loss: 0.0593 - val_accuracy: 0.9829\n",
            "Epoch 92/200\n",
            "11/11 [==============================] - 0s 13ms/step - loss: 0.0131 - accuracy: 0.9954 - val_loss: 0.0671 - val_accuracy: 0.9829\n",
            "Epoch 93/200\n",
            "11/11 [==============================] - 0s 13ms/step - loss: 0.0152 - accuracy: 0.9943 - val_loss: 0.1028 - val_accuracy: 0.9743\n",
            "Epoch 94/200\n",
            "11/11 [==============================] - 0s 13ms/step - loss: 0.0172 - accuracy: 0.9943 - val_loss: 0.0750 - val_accuracy: 0.9757\n",
            "Epoch 95/200\n",
            "11/11 [==============================] - 0s 12ms/step - loss: 0.0155 - accuracy: 0.9957 - val_loss: 0.0763 - val_accuracy: 0.9800\n",
            "Epoch 96/200\n",
            "11/11 [==============================] - 0s 12ms/step - loss: 0.0188 - accuracy: 0.9936 - val_loss: 0.0882 - val_accuracy: 0.9786\n",
            "Epoch 97/200\n",
            "11/11 [==============================] - 0s 13ms/step - loss: 0.0126 - accuracy: 0.9957 - val_loss: 0.0948 - val_accuracy: 0.9800\n",
            "Epoch 98/200\n",
            "11/11 [==============================] - 0s 13ms/step - loss: 0.0181 - accuracy: 0.9946 - val_loss: 0.0815 - val_accuracy: 0.9829\n",
            "Epoch 99/200\n",
            "11/11 [==============================] - 0s 13ms/step - loss: 0.0163 - accuracy: 0.9950 - val_loss: 0.0840 - val_accuracy: 0.9757\n",
            "Epoch 100/200\n",
            "11/11 [==============================] - 0s 15ms/step - loss: 0.0130 - accuracy: 0.9961 - val_loss: 0.0615 - val_accuracy: 0.9843\n",
            "Epoch 101/200\n",
            "11/11 [==============================] - 0s 13ms/step - loss: 0.0177 - accuracy: 0.9939 - val_loss: 0.0823 - val_accuracy: 0.9814\n",
            "Epoch 102/200\n",
            "11/11 [==============================] - 0s 13ms/step - loss: 0.0156 - accuracy: 0.9954 - val_loss: 0.0617 - val_accuracy: 0.9829\n",
            "Epoch 103/200\n",
            "11/11 [==============================] - 0s 13ms/step - loss: 0.0137 - accuracy: 0.9954 - val_loss: 0.0892 - val_accuracy: 0.9743\n",
            "Epoch 104/200\n",
            "11/11 [==============================] - 0s 13ms/step - loss: 0.0151 - accuracy: 0.9943 - val_loss: 0.0761 - val_accuracy: 0.9786\n",
            "Epoch 105/200\n",
            "11/11 [==============================] - 0s 15ms/step - loss: 0.0130 - accuracy: 0.9950 - val_loss: 0.0599 - val_accuracy: 0.9829\n",
            "Epoch 106/200\n",
            "11/11 [==============================] - 0s 16ms/step - loss: 0.0099 - accuracy: 0.9971 - val_loss: 0.0603 - val_accuracy: 0.9857\n",
            "Epoch 107/200\n",
            "11/11 [==============================] - 0s 13ms/step - loss: 0.0086 - accuracy: 0.9971 - val_loss: 0.0576 - val_accuracy: 0.9814\n",
            "Epoch 108/200\n",
            "11/11 [==============================] - 0s 12ms/step - loss: 0.0133 - accuracy: 0.9957 - val_loss: 0.0566 - val_accuracy: 0.9843\n",
            "Epoch 109/200\n",
            "11/11 [==============================] - 0s 12ms/step - loss: 0.0127 - accuracy: 0.9950 - val_loss: 0.0920 - val_accuracy: 0.9757\n",
            "Epoch 110/200\n",
            "11/11 [==============================] - 0s 12ms/step - loss: 0.0139 - accuracy: 0.9954 - val_loss: 0.0538 - val_accuracy: 0.9843\n",
            "Epoch 111/200\n",
            "11/11 [==============================] - 0s 13ms/step - loss: 0.0143 - accuracy: 0.9939 - val_loss: 0.1062 - val_accuracy: 0.9771\n",
            "Epoch 112/200\n",
            "11/11 [==============================] - 0s 15ms/step - loss: 0.0103 - accuracy: 0.9968 - val_loss: 0.0697 - val_accuracy: 0.9829\n",
            "Epoch 113/200\n",
            "11/11 [==============================] - 0s 14ms/step - loss: 0.0097 - accuracy: 0.9961 - val_loss: 0.0845 - val_accuracy: 0.9786\n",
            "Epoch 114/200\n",
            "11/11 [==============================] - 0s 13ms/step - loss: 0.0114 - accuracy: 0.9954 - val_loss: 0.0593 - val_accuracy: 0.9829\n",
            "Epoch 115/200\n",
            "11/11 [==============================] - 0s 12ms/step - loss: 0.0086 - accuracy: 0.9968 - val_loss: 0.0701 - val_accuracy: 0.9829\n",
            "Epoch 116/200\n",
            "11/11 [==============================] - 0s 14ms/step - loss: 0.0108 - accuracy: 0.9964 - val_loss: 0.0954 - val_accuracy: 0.9786\n",
            "Epoch 117/200\n",
            "11/11 [==============================] - 0s 16ms/step - loss: 0.0149 - accuracy: 0.9946 - val_loss: 0.0550 - val_accuracy: 0.9814\n",
            "Epoch 118/200\n",
            "11/11 [==============================] - 0s 14ms/step - loss: 0.0097 - accuracy: 0.9971 - val_loss: 0.0667 - val_accuracy: 0.9829\n",
            "Epoch 119/200\n",
            "11/11 [==============================] - 0s 11ms/step - loss: 0.0071 - accuracy: 0.9979 - val_loss: 0.0579 - val_accuracy: 0.9857\n",
            "Epoch 120/200\n",
            "11/11 [==============================] - 0s 11ms/step - loss: 0.0069 - accuracy: 0.9979 - val_loss: 0.0777 - val_accuracy: 0.9786\n",
            "Epoch 121/200\n",
            "11/11 [==============================] - 0s 10ms/step - loss: 0.0098 - accuracy: 0.9954 - val_loss: 0.0816 - val_accuracy: 0.9814\n",
            "Epoch 122/200\n",
            "11/11 [==============================] - 0s 11ms/step - loss: 0.0086 - accuracy: 0.9971 - val_loss: 0.0745 - val_accuracy: 0.9829\n",
            "Epoch 123/200\n",
            "11/11 [==============================] - 0s 11ms/step - loss: 0.0077 - accuracy: 0.9982 - val_loss: 0.0843 - val_accuracy: 0.9829\n",
            "Epoch 124/200\n",
            "11/11 [==============================] - 0s 12ms/step - loss: 0.0104 - accuracy: 0.9954 - val_loss: 0.0675 - val_accuracy: 0.9800\n",
            "Epoch 125/200\n",
            "11/11 [==============================] - 0s 10ms/step - loss: 0.0142 - accuracy: 0.9950 - val_loss: 0.0638 - val_accuracy: 0.9857\n",
            "Epoch 126/200\n",
            "11/11 [==============================] - 0s 10ms/step - loss: 0.0095 - accuracy: 0.9968 - val_loss: 0.0639 - val_accuracy: 0.9871\n",
            "Epoch 127/200\n",
            "11/11 [==============================] - 0s 11ms/step - loss: 0.0054 - accuracy: 0.9982 - val_loss: 0.0582 - val_accuracy: 0.9857\n",
            "Epoch 128/200\n",
            "11/11 [==============================] - 0s 10ms/step - loss: 0.0086 - accuracy: 0.9975 - val_loss: 0.0634 - val_accuracy: 0.9843\n",
            "Epoch 129/200\n",
            "11/11 [==============================] - 0s 10ms/step - loss: 0.0056 - accuracy: 0.9986 - val_loss: 0.0524 - val_accuracy: 0.9871\n",
            "Epoch 130/200\n",
            "11/11 [==============================] - 0s 11ms/step - loss: 0.0073 - accuracy: 0.9968 - val_loss: 0.0768 - val_accuracy: 0.9786\n",
            "Epoch 131/200\n",
            "11/11 [==============================] - 0s 10ms/step - loss: 0.0093 - accuracy: 0.9968 - val_loss: 0.0572 - val_accuracy: 0.9843\n",
            "Epoch 132/200\n",
            "11/11 [==============================] - 0s 10ms/step - loss: 0.0090 - accuracy: 0.9964 - val_loss: 0.0477 - val_accuracy: 0.9857\n",
            "Epoch 133/200\n",
            "11/11 [==============================] - 0s 10ms/step - loss: 0.0062 - accuracy: 0.9979 - val_loss: 0.0604 - val_accuracy: 0.9843\n",
            "Epoch 134/200\n",
            "11/11 [==============================] - 0s 11ms/step - loss: 0.0073 - accuracy: 0.9975 - val_loss: 0.0569 - val_accuracy: 0.9829\n",
            "Epoch 135/200\n",
            "11/11 [==============================] - 0s 11ms/step - loss: 0.0064 - accuracy: 0.9975 - val_loss: 0.0653 - val_accuracy: 0.9829\n",
            "Epoch 136/200\n",
            "11/11 [==============================] - 0s 11ms/step - loss: 0.0088 - accuracy: 0.9968 - val_loss: 0.0810 - val_accuracy: 0.9814\n",
            "Epoch 137/200\n",
            "11/11 [==============================] - 0s 11ms/step - loss: 0.0067 - accuracy: 0.9979 - val_loss: 0.0836 - val_accuracy: 0.9857\n",
            "Epoch 138/200\n",
            "11/11 [==============================] - 0s 12ms/step - loss: 0.0083 - accuracy: 0.9982 - val_loss: 0.0899 - val_accuracy: 0.9757\n",
            "Epoch 139/200\n",
            "11/11 [==============================] - 0s 10ms/step - loss: 0.0066 - accuracy: 0.9982 - val_loss: 0.0738 - val_accuracy: 0.9829\n",
            "Epoch 140/200\n",
            "11/11 [==============================] - 0s 11ms/step - loss: 0.0084 - accuracy: 0.9979 - val_loss: 0.0514 - val_accuracy: 0.9886\n",
            "Epoch 141/200\n",
            "11/11 [==============================] - 0s 11ms/step - loss: 0.0077 - accuracy: 0.9957 - val_loss: 0.0736 - val_accuracy: 0.9800\n",
            "Epoch 142/200\n",
            "11/11 [==============================] - 0s 12ms/step - loss: 0.0108 - accuracy: 0.9971 - val_loss: 0.0840 - val_accuracy: 0.9829\n",
            "Epoch 143/200\n",
            "11/11 [==============================] - 0s 10ms/step - loss: 0.0076 - accuracy: 0.9968 - val_loss: 0.0783 - val_accuracy: 0.9829\n",
            "Epoch 144/200\n",
            "11/11 [==============================] - 0s 10ms/step - loss: 0.0099 - accuracy: 0.9971 - val_loss: 0.0863 - val_accuracy: 0.9814\n",
            "Epoch 145/200\n",
            "11/11 [==============================] - 0s 11ms/step - loss: 0.0112 - accuracy: 0.9975 - val_loss: 0.0853 - val_accuracy: 0.9771\n",
            "Epoch 146/200\n",
            "11/11 [==============================] - 0s 11ms/step - loss: 0.0085 - accuracy: 0.9975 - val_loss: 0.0702 - val_accuracy: 0.9829\n",
            "Epoch 147/200\n",
            "11/11 [==============================] - 0s 10ms/step - loss: 0.0141 - accuracy: 0.9939 - val_loss: 0.0973 - val_accuracy: 0.9771\n",
            "Epoch 148/200\n",
            "11/11 [==============================] - 0s 11ms/step - loss: 0.0126 - accuracy: 0.9957 - val_loss: 0.0507 - val_accuracy: 0.9843\n",
            "Epoch 149/200\n",
            "11/11 [==============================] - 0s 11ms/step - loss: 0.0076 - accuracy: 0.9982 - val_loss: 0.0538 - val_accuracy: 0.9857\n",
            "Epoch 150/200\n",
            "11/11 [==============================] - 0s 11ms/step - loss: 0.0090 - accuracy: 0.9979 - val_loss: 0.0597 - val_accuracy: 0.9886\n",
            "Epoch 151/200\n",
            "11/11 [==============================] - 0s 10ms/step - loss: 0.0059 - accuracy: 0.9986 - val_loss: 0.0629 - val_accuracy: 0.9843\n",
            "Epoch 152/200\n",
            "11/11 [==============================] - 0s 12ms/step - loss: 0.0060 - accuracy: 0.9982 - val_loss: 0.0802 - val_accuracy: 0.9771\n",
            "Epoch 153/200\n",
            "11/11 [==============================] - 0s 11ms/step - loss: 0.0067 - accuracy: 0.9979 - val_loss: 0.0693 - val_accuracy: 0.9871\n",
            "Epoch 154/200\n",
            "11/11 [==============================] - 0s 10ms/step - loss: 0.0073 - accuracy: 0.9968 - val_loss: 0.0836 - val_accuracy: 0.9814\n",
            "Epoch 155/200\n",
            "11/11 [==============================] - 0s 12ms/step - loss: 0.0110 - accuracy: 0.9961 - val_loss: 0.0797 - val_accuracy: 0.9814\n",
            "Epoch 156/200\n",
            "11/11 [==============================] - 0s 10ms/step - loss: 0.0063 - accuracy: 0.9975 - val_loss: 0.0828 - val_accuracy: 0.9800\n",
            "Epoch 157/200\n",
            "11/11 [==============================] - 0s 10ms/step - loss: 0.0105 - accuracy: 0.9961 - val_loss: 0.0661 - val_accuracy: 0.9843\n",
            "Epoch 158/200\n",
            "11/11 [==============================] - 0s 11ms/step - loss: 0.0039 - accuracy: 0.9986 - val_loss: 0.0840 - val_accuracy: 0.9829\n",
            "Epoch 159/200\n",
            "11/11 [==============================] - 0s 10ms/step - loss: 0.0093 - accuracy: 0.9968 - val_loss: 0.0835 - val_accuracy: 0.9829\n",
            "Epoch 160/200\n",
            "11/11 [==============================] - 0s 11ms/step - loss: 0.0063 - accuracy: 0.9975 - val_loss: 0.0811 - val_accuracy: 0.9771\n",
            "Epoch 161/200\n",
            "11/11 [==============================] - 0s 11ms/step - loss: 0.0093 - accuracy: 0.9957 - val_loss: 0.0891 - val_accuracy: 0.9814\n",
            "Epoch 162/200\n",
            "11/11 [==============================] - 0s 10ms/step - loss: 0.0068 - accuracy: 0.9979 - val_loss: 0.0633 - val_accuracy: 0.9843\n",
            "Epoch 163/200\n",
            "11/11 [==============================] - 0s 11ms/step - loss: 0.0044 - accuracy: 0.9982 - val_loss: 0.0595 - val_accuracy: 0.9886\n",
            "Epoch 164/200\n",
            "11/11 [==============================] - 0s 10ms/step - loss: 0.0063 - accuracy: 0.9979 - val_loss: 0.0663 - val_accuracy: 0.9829\n",
            "Epoch 165/200\n",
            "11/11 [==============================] - 0s 10ms/step - loss: 0.0073 - accuracy: 0.9975 - val_loss: 0.0852 - val_accuracy: 0.9843\n",
            "Epoch 166/200\n",
            "11/11 [==============================] - 0s 10ms/step - loss: 0.0061 - accuracy: 0.9971 - val_loss: 0.0561 - val_accuracy: 0.9829\n",
            "Epoch 167/200\n",
            "11/11 [==============================] - 0s 10ms/step - loss: 0.0035 - accuracy: 0.9993 - val_loss: 0.0658 - val_accuracy: 0.9857\n",
            "Epoch 168/200\n",
            "11/11 [==============================] - 0s 11ms/step - loss: 0.0054 - accuracy: 0.9986 - val_loss: 0.0744 - val_accuracy: 0.9843\n",
            "Epoch 169/200\n",
            "11/11 [==============================] - 0s 10ms/step - loss: 0.0054 - accuracy: 0.9982 - val_loss: 0.0679 - val_accuracy: 0.9843\n",
            "Epoch 170/200\n",
            "11/11 [==============================] - 0s 11ms/step - loss: 0.0046 - accuracy: 0.9986 - val_loss: 0.1047 - val_accuracy: 0.9800\n",
            "Epoch 171/200\n",
            "11/11 [==============================] - 0s 10ms/step - loss: 0.0074 - accuracy: 0.9986 - val_loss: 0.0876 - val_accuracy: 0.9814\n",
            "Epoch 172/200\n",
            "11/11 [==============================] - 0s 10ms/step - loss: 0.0051 - accuracy: 0.9982 - val_loss: 0.0843 - val_accuracy: 0.9786\n",
            "Epoch 173/200\n",
            "11/11 [==============================] - 0s 10ms/step - loss: 0.0062 - accuracy: 0.9975 - val_loss: 0.0759 - val_accuracy: 0.9857\n",
            "Epoch 174/200\n",
            "11/11 [==============================] - 0s 10ms/step - loss: 0.0082 - accuracy: 0.9975 - val_loss: 0.0621 - val_accuracy: 0.9786\n",
            "Epoch 175/200\n",
            "11/11 [==============================] - 0s 11ms/step - loss: 0.0111 - accuracy: 0.9971 - val_loss: 0.0847 - val_accuracy: 0.9743\n",
            "Epoch 176/200\n",
            "11/11 [==============================] - 0s 10ms/step - loss: 0.0048 - accuracy: 0.9989 - val_loss: 0.0962 - val_accuracy: 0.9829\n",
            "Epoch 177/200\n",
            "11/11 [==============================] - 0s 12ms/step - loss: 0.0055 - accuracy: 0.9986 - val_loss: 0.0922 - val_accuracy: 0.9814\n",
            "Epoch 178/200\n",
            "11/11 [==============================] - 0s 10ms/step - loss: 0.0034 - accuracy: 0.9996 - val_loss: 0.0950 - val_accuracy: 0.9814\n",
            "Epoch 179/200\n",
            "11/11 [==============================] - 0s 11ms/step - loss: 0.0067 - accuracy: 0.9968 - val_loss: 0.0806 - val_accuracy: 0.9800\n",
            "Epoch 180/200\n",
            "11/11 [==============================] - 0s 10ms/step - loss: 0.0131 - accuracy: 0.9957 - val_loss: 0.0861 - val_accuracy: 0.9743\n",
            "Epoch 181/200\n",
            "11/11 [==============================] - 0s 11ms/step - loss: 0.0217 - accuracy: 0.9936 - val_loss: 0.0756 - val_accuracy: 0.9829\n",
            "Epoch 182/200\n",
            "11/11 [==============================] - 0s 11ms/step - loss: 0.0101 - accuracy: 0.9968 - val_loss: 0.0957 - val_accuracy: 0.9757\n",
            "Epoch 183/200\n",
            "11/11 [==============================] - 0s 10ms/step - loss: 0.0095 - accuracy: 0.9968 - val_loss: 0.1079 - val_accuracy: 0.9786\n",
            "Epoch 184/200\n",
            "11/11 [==============================] - 0s 10ms/step - loss: 0.0177 - accuracy: 0.9943 - val_loss: 0.0686 - val_accuracy: 0.9786\n",
            "Epoch 185/200\n",
            "11/11 [==============================] - 0s 12ms/step - loss: 0.0139 - accuracy: 0.9961 - val_loss: 0.0868 - val_accuracy: 0.9800\n",
            "Epoch 186/200\n",
            "11/11 [==============================] - 0s 11ms/step - loss: 0.0074 - accuracy: 0.9979 - val_loss: 0.0957 - val_accuracy: 0.9814\n",
            "Epoch 187/200\n",
            "11/11 [==============================] - 0s 11ms/step - loss: 0.0061 - accuracy: 0.9982 - val_loss: 0.0552 - val_accuracy: 0.9914\n",
            "Epoch 188/200\n",
            "11/11 [==============================] - 0s 11ms/step - loss: 0.0076 - accuracy: 0.9982 - val_loss: 0.0606 - val_accuracy: 0.9857\n",
            "Epoch 189/200\n",
            "11/11 [==============================] - 0s 12ms/step - loss: 0.0065 - accuracy: 0.9979 - val_loss: 0.0614 - val_accuracy: 0.9857\n",
            "Epoch 190/200\n",
            "11/11 [==============================] - 0s 11ms/step - loss: 0.0028 - accuracy: 1.0000 - val_loss: 0.0784 - val_accuracy: 0.9814\n",
            "Epoch 191/200\n",
            "11/11 [==============================] - 0s 11ms/step - loss: 0.0034 - accuracy: 0.9989 - val_loss: 0.0847 - val_accuracy: 0.9800\n",
            "Epoch 192/200\n",
            "11/11 [==============================] - 0s 11ms/step - loss: 0.0058 - accuracy: 0.9986 - val_loss: 0.0781 - val_accuracy: 0.9814\n",
            "Epoch 193/200\n",
            "11/11 [==============================] - 0s 12ms/step - loss: 0.0057 - accuracy: 0.9979 - val_loss: 0.0954 - val_accuracy: 0.9800\n",
            "Epoch 194/200\n",
            "11/11 [==============================] - 0s 10ms/step - loss: 0.0092 - accuracy: 0.9975 - val_loss: 0.0673 - val_accuracy: 0.9829\n",
            "Epoch 195/200\n",
            "11/11 [==============================] - 0s 11ms/step - loss: 0.0105 - accuracy: 0.9971 - val_loss: 0.1109 - val_accuracy: 0.9786\n",
            "Epoch 196/200\n",
            "11/11 [==============================] - 0s 11ms/step - loss: 0.0133 - accuracy: 0.9943 - val_loss: 0.0752 - val_accuracy: 0.9800\n",
            "Epoch 197/200\n",
            "11/11 [==============================] - 0s 10ms/step - loss: 0.0090 - accuracy: 0.9968 - val_loss: 0.0737 - val_accuracy: 0.9843\n",
            "Epoch 198/200\n",
            "11/11 [==============================] - 0s 11ms/step - loss: 0.0071 - accuracy: 0.9971 - val_loss: 0.0737 - val_accuracy: 0.9857\n",
            "Epoch 199/200\n",
            "11/11 [==============================] - 0s 12ms/step - loss: 0.0096 - accuracy: 0.9954 - val_loss: 0.0704 - val_accuracy: 0.9843\n",
            "Epoch 200/200\n",
            "11/11 [==============================] - 0s 12ms/step - loss: 0.0067 - accuracy: 0.9982 - val_loss: 0.0614 - val_accuracy: 0.9871\n"
          ]
        }
      ],
      "source": [
        "# 1. Import libraries and modules\n",
        "from tensorflow import keras\n",
        "from keras import layers\n",
        "from keras.models import Sequential\n",
        "from keras.layers import Dense, Dropout\n",
        "import numpy as np\n",
        "from dataset import load_hoda\n",
        "import matplotlib.pyplot as plt\n",
        "\n",
        "# Load pre-shuffled HODA data into train and test sets\n",
        "X_train, y_train, X_test, y_test = load_hoda(\n",
        "                                            training_sample_size=3500,\n",
        "                                            test_sample_size=400,size=28)\n",
        "\n",
        "# Preprocess input data\n",
        "'''normalize our data values to the range [0, 1]'''\n",
        "X_train = X_train.astype('float32')\n",
        "X_test = X_test.astype('float32')\n",
        "X_train /= 255\n",
        "X_test /= 255\n",
        "\n",
        "# Reshape to original image shape (n x 784)  ==> (n x 28 x 28 x 1)\n",
        "X_train = X_train.reshape(-1,28,28,1)\n",
        "X_test = X_test.reshape(-1,28,28,1)\n",
        "\n",
        "\n",
        "# 4. Preprocess class labels\n",
        "y_train = keras.utils.to_categorical(y_train)\n",
        "y_test = keras.utils.to_categorical(y_test)\n",
        "\n",
        "\n",
        "# 5. Define model architecture\n",
        "model = Sequential()\n",
        "model.add(layers.Conv2D(32, (3, 3), activation='relu',\n",
        "                        input_shape=(28, 28, 1)))\n",
        "model.add(layers.MaxPooling2D((2, 2)))\n",
        "model.add(layers.Conv2D(64, (3, 3), activation='relu'))\n",
        "model.add(layers.MaxPooling2D((2, 2)))\n",
        "model.add(layers.Conv2D(64, (3, 3), activation='relu'))\n",
        "model.add(layers.Flatten())\n",
        "model.add(layers.Dense(64, activation='relu'))\n",
        "model.add(Dropout(0.5))\n",
        "model.add(layers.Dense(10, activation='softmax'))\n",
        "\n",
        "\n",
        "# 6. Compile model\n",
        "model.compile(loss='categorical_crossentropy',\n",
        "              optimizer='adam',\n",
        "              metrics=['accuracy'])\n",
        "\n",
        "\n",
        "# 7. Fit model on training data\n",
        "history = model.fit(X_train, y_train,\n",
        "          epochs=200, batch_size=256, validation_split=0.2)\n"
      ]
    },
    {
      "cell_type": "code",
      "source": [
        "model.summary()"
      ],
      "metadata": {
        "colab": {
          "base_uri": "https://localhost:8080/"
        },
        "id": "uOFuDEcpgLne",
        "outputId": "de6bc4a8-5971-4fe3-e5d9-0ceb1aebacf0"
      },
      "execution_count": 6,
      "outputs": [
        {
          "output_type": "stream",
          "name": "stdout",
          "text": [
            "Model: \"sequential\"\n",
            "_________________________________________________________________\n",
            " Layer (type)                Output Shape              Param #   \n",
            "=================================================================\n",
            " conv2d (Conv2D)             (None, 26, 26, 32)        320       \n",
            "                                                                 \n",
            " max_pooling2d (MaxPooling2  (None, 13, 13, 32)        0         \n",
            " D)                                                              \n",
            "                                                                 \n",
            " conv2d_1 (Conv2D)           (None, 11, 11, 64)        18496     \n",
            "                                                                 \n",
            " max_pooling2d_1 (MaxPoolin  (None, 5, 5, 64)          0         \n",
            " g2D)                                                            \n",
            "                                                                 \n",
            " conv2d_2 (Conv2D)           (None, 3, 3, 64)          36928     \n",
            "                                                                 \n",
            " flatten (Flatten)           (None, 576)               0         \n",
            "                                                                 \n",
            " dense (Dense)               (None, 64)                36928     \n",
            "                                                                 \n",
            " dropout (Dropout)           (None, 64)                0         \n",
            "                                                                 \n",
            " dense_1 (Dense)             (None, 10)                650       \n",
            "                                                                 \n",
            "=================================================================\n",
            "Total params: 93322 (364.54 KB)\n",
            "Trainable params: 93322 (364.54 KB)\n",
            "Non-trainable params: 0 (0.00 Byte)\n",
            "_________________________________________________________________\n"
          ]
        }
      ]
    },
    {
      "cell_type": "code",
      "source": [
        "keras.utils.plot_model(model,show_shapes=True)"
      ],
      "metadata": {
        "colab": {
          "base_uri": "https://localhost:8080/",
          "height": 1000
        },
        "id": "HKZraEOaiv6F",
        "outputId": "ab3230b0-0083-4b82-93d5-933aec830ee5"
      },
      "execution_count": 10,
      "outputs": [
        {
          "output_type": "execute_result",
          "data": {
            "image/png": "[encoded data removed]",
            "text/plain": [
              "<IPython.core.display.Image object>"
            ]
          },
          "metadata": {},
          "execution_count": 10
        }
      ]
    },
    {
      "cell_type": "code",
      "execution_count": null,
      "metadata": {
        "id": "iKYG99VerELg",
        "outputId": "d34cf5b6-e49a-4ee4-88e7-2a32234ab64e"
      },
      "outputs": [
        {
          "data": {
            "image/png": "[encoded data removed]",
            "text/plain": [
              "<Figure size 432x288 with 1 Axes>"
            ]
          },
          "metadata": {
            "needs_background": "light"
          },
          "output_type": "display_data"
        },
        {
          "data": {
            "image/png": "[encoded data removed]",
            "text/plain": [
              "<Figure size 432x288 with 1 Axes>"
            ]
          },
          "metadata": {
            "needs_background": "light"
          },
          "output_type": "display_data"
        }
      ],
      "source": [
        "import matplotlib.pyplot as plt\n",
        "%matplotlib inline\n",
        "acc = history.history['accuracy']\n",
        "val_acc = history.history['val_accuracy']\n",
        "loss = history.history['loss']\n",
        "val_loss = history.history['val_loss']\n",
        "\n",
        "epochs = range(len(acc))\n",
        "\n",
        "plt.plot(epochs, acc, 'bo', label='Training acc')\n",
        "plt.plot(epochs, val_acc, 'b', label='Validation acc')\n",
        "plt.title('Training and validation accuracy')\n",
        "plt.legend()\n",
        "\n",
        "plt.figure()\n",
        "\n",
        "plt.plot(epochs, loss, 'bo', label='Training loss')\n",
        "plt.plot(epochs, val_loss, 'b', label='Validation loss')\n",
        "plt.title('Training and validation loss')\n",
        "plt.legend()\n",
        "\n",
        "plt.show()"
      ]
    },
    {
      "cell_type": "code",
      "source": [
        "import cv2"
      ],
      "metadata": {
        "id": "NLnYLQtvlQWR"
      },
      "execution_count": 11,
      "outputs": []
    },
    {
      "cell_type": "code",
      "source": [
        "img=cv2.imread('اسم فایلی که تو خود گوگل کلب آپلود کردم', 0)\n",
        "img.shap"
      ],
      "metadata": {
        "id": "NRs9o8IuldeS"
      },
      "execution_count": null,
      "outputs": []
    },
    {
      "cell_type": "code",
      "source": [
        "cv2.resize(img,(28,28))"
      ],
      "metadata": {
        "id": "XEFn_BbSmmqe"
      },
      "execution_count": null,
      "outputs": []
    },
    {
      "cell_type": "code",
      "source": [
        "img=cv2.reshap(1,28,28,1)"
      ],
      "metadata": {
        "id": "Ab-wWSt4nNpA"
      },
      "execution_count": null,
      "outputs": []
    },
    {
      "cell_type": "code",
      "source": [
        "img.astype('float32')/255"
      ],
      "metadata": {
        "id": "MKZgs8L7oG5V"
      },
      "execution_count": null,
      "outputs": []
    },
    {
      "cell_type": "code",
      "source": [
        "p=model.predict(x)"
      ],
      "metadata": {
        "id": "fJtE-VpKoQya"
      },
      "execution_count": null,
      "outputs": []
    },
    {
      "cell_type": "code",
      "source": [
        "np.max(p)"
      ],
      "metadata": {
        "id": "dtW4hx4coV7l"
      },
      "execution_count": null,
      "outputs": []
    }
  ],
  "metadata": {
    "anaconda-cloud": {},
    "kernelspec": {
      "display_name": "Python 3",
      "name": "python3"
    },
    "language_info": {
      "codemirror_mode": {
        "name": "ipython",
        "version": 3
      },
      "file_extension": ".py",
      "mimetype": "text/x-python",
      "name": "python",
      "nbconvert_exporter": "python",
      "pygments_lexer": "ipython3",
      "version": "3.11.5"
    },
    "nbpresent": {
      "slides": {
        "300ee14f-a043-486e-b274-7ff253907cd7": {
          "id": "300ee14f-a043-486e-b274-7ff253907cd7",
          "prev": "cb74e0bc-4513-4d13-b7f1-14c3078a7927",
          "regions": {
            "26dc3f39-a230-447c-af4c-f5e5b2fb7835": {
              "attrs": {
                "height": 0.8,
                "width": 0.8,
                "x": 0.1,
                "y": 0.1
              },
              "content": {
                "cell": "c58440a5-3f8f-4f37-9c79-6bf766209406",
                "part": "whole"
              },
              "id": "26dc3f39-a230-447c-af4c-f5e5b2fb7835"
            }
          }
        },
        "878aa53a-1444-4100-8f50-7a408191c579": {
          "id": "878aa53a-1444-4100-8f50-7a408191c579",
          "prev": null,
          "regions": {
            "a6c6843a-5ea6-4fbc-b890-3b4b8ae475b3": {
              "attrs": {
                "height": 0.8,
                "width": 0.8,
                "x": 0.1,
                "y": 0.1
              },
              "content": {
                "cell": "588ee1fa-64b5-453b-ade7-8e6b2515821c",
                "part": "whole"
              },
              "id": "a6c6843a-5ea6-4fbc-b890-3b4b8ae475b3"
            }
          }
        },
        "96ffe88e-7b50-43de-afdd-942e564f4e3e": {
          "id": "96ffe88e-7b50-43de-afdd-942e564f4e3e",
          "prev": "878aa53a-1444-4100-8f50-7a408191c579",
          "regions": {
            "b7e52e12-489a-468d-b10c-af2024fd2856": {
              "attrs": {
                "height": 0.8,
                "width": 0.8,
                "x": 0.1,
                "y": 0.1
              },
              "content": {
                "cell": "de829a92-1fb6-44ad-a2c6-fc1001e1f6e1",
                "part": "whole"
              },
              "id": "b7e52e12-489a-468d-b10c-af2024fd2856"
            }
          }
        },
        "cb74e0bc-4513-4d13-b7f1-14c3078a7927": {
          "id": "cb74e0bc-4513-4d13-b7f1-14c3078a7927",
          "prev": "96ffe88e-7b50-43de-afdd-942e564f4e3e",
          "regions": {
            "444878ee-68f3-4abb-acff-a7079b21e86d": {
              "attrs": {
                "height": 0.8,
                "width": 0.8,
                "x": 0.1,
                "y": 0.1
              },
              "content": {
                "cell": "25f3f538-1ee8-4d98-a6bb-14cbeb7a702d",
                "part": "whole"
              },
              "id": "444878ee-68f3-4abb-acff-a7079b21e86d"
            }
          }
        }
      },
      "themes": {}
    },
    "colab": {
      "provenance": [],
      "toc_visible": true,
      "gpuType": "T4",
      "include_colab_link": true
    },
    "accelerator": "GPU"
  },
  "nbformat": 4,
  "nbformat_minor": 0
}